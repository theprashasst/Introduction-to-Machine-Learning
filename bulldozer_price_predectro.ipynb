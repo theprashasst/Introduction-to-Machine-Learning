{
 "cells": [
  {
   "cell_type": "code",
   "execution_count": null,
   "id": "a8da8d4d",
   "metadata": {},
   "outputs": [],
   "source": [
    "%load_ext autoreload\n",
    "%autoreload 2\n",
    "\n",
    "%matplotlib inline\n"
   ]
  },
  {
   "cell_type": "code",
   "execution_count": 1,
   "id": "cfb9e186-700e-4e43-ac34-a0416c2f04d1",
   "metadata": {
    "tags": []
   },
   "outputs": [],
   "source": [
    "from fastai.imports import *\n",
    "from fastai.tabular.all import *\n",
    "\n",
    "\n",
    "from pandas_summary import DataFrameSummary\n",
    "from sklearn.ensemble import RandomForestRegressor, RandomForestClassifier\n",
    "from IPython.display import display\n",
    "\n",
    "from sklearn import metrics\n",
    "import seaborn as sns\n"
   ]
  },
  {
   "cell_type": "code",
   "execution_count": null,
   "id": "c89fd10e-9bcd-4944-9f07-3a5bce12fa9e",
   "metadata": {},
   "outputs": [],
   "source": [
    "bulldozer=pd.read_csv(\"data/Blue-book-for-bulldozers/Train.csv\", low_memory=False,parse_dates=[\"saledate\"])"
   ]
  },
  {
   "cell_type": "code",
   "execution_count": null,
   "id": "5be8fa55-6f8d-4c4a-84a1-d5ac1b5b58b8",
   "metadata": {},
   "outputs": [],
   "source": [
    "num=bulldozer.select_dtypes(include=[np.number]).columns"
   ]
  },
  {
   "cell_type": "code",
   "execution_count": null,
   "id": "4c92d103",
   "metadata": {},
   "outputs": [],
   "source": [
    "bulldozer['SalePrice']=np.log(bulldozer[\"SalePrice\"])"
   ]
  },
  {
   "cell_type": "code",
   "execution_count": null,
   "id": "7abd3591",
   "metadata": {},
   "outputs": [],
   "source": [
    "add_datepart(bulldozer,\"saledate\")"
   ]
  },
  {
   "cell_type": "code",
   "execution_count": null,
   "id": "ad2712c3",
   "metadata": {},
   "outputs": [],
   "source": [
    "splits = RandomSplitter(valid_pct=0.2)(range_of(bulldozer))\n",
    "len(splits[0])+len(splits[1])\n",
    "splits"
   ]
  },
  {
   "cell_type": "code",
   "execution_count": null,
   "id": "856ad0fd",
   "metadata": {},
   "outputs": [],
   "source": [
    "proc=[Categorify, FillMissing, Normalize]"
   ]
  },
  {
   "cell_type": "code",
   "execution_count": null,
   "id": "dd850bb3",
   "metadata": {},
   "outputs": [],
   "source": [
    "cont_names, cat_names=cont_cat_split (bulldozer)\n",
    "cont_names=['SalesID',\n",
    " 'MachineID',\n",
    " 'ModelID',\n",
    " 'auctioneerID',\n",
    " 'YearMade',\n",
    " 'MachineHoursCurrentMeter',\n",
    " 'saleYear',\n",
    " 'saleWeek',\n",
    " 'saleDay',\n",
    " 'saleDayofyear',\n",
    " 'saleElapsed']"
   ]
  },
  {
   "cell_type": "code",
   "execution_count": null,
   "id": "a48a0733",
   "metadata": {},
   "outputs": [],
   "source": [
    "\n",
    "to = TabularPandas(bulldozer, procs=proc,cat_names=cat_names, cont_names=cont_names,y_names=\"SalePrice\",splits=splits)\n"
   ]
  },
  {
   "cell_type": "code",
   "execution_count": null,
   "id": "73a18ad4",
   "metadata": {},
   "outputs": [],
   "source": [
    "X_train, y_train = to.train.xs, to.train.ys.values.ravel()\n",
    "X_test, y_test = to.valid.xs, to.valid.ys.values.ravel()"
   ]
  },
  {
   "cell_type": "code",
   "execution_count": null,
   "id": "d1c92691",
   "metadata": {},
   "outputs": [],
   "source": [
    "m=RandomForestRegressor(n_jobs=-1)"
   ]
  },
  {
   "cell_type": "code",
   "execution_count": null,
   "id": "707ac01f",
   "metadata": {},
   "outputs": [],
   "source": [
    "m.fit(X_train,y_train)"
   ]
  },
  {
   "cell_type": "code",
   "execution_count": null,
   "id": "9cbe2f13",
   "metadata": {},
   "outputs": [],
   "source": [
    "y_pred=m.predict(X_test)"
   ]
  },
  {
   "cell_type": "code",
   "execution_count": 208,
   "id": "e3e10098",
   "metadata": {},
   "outputs": [
    {
     "data": {
      "text/plain": [
       "0.9025557937531011"
      ]
     },
     "execution_count": 208,
     "metadata": {},
     "output_type": "execute_result"
    }
   ],
   "source": [
    "score = metrics.r2_score(y_pred, y_test)\n",
    "score"
   ]
  },
  {
   "cell_type": "code",
   "execution_count": null,
   "id": "8c1506e4",
   "metadata": {},
   "outputs": [],
   "source": []
  }
 ],
 "metadata": {
  "kernelspec": {
   "display_name": "Python 3 (ipykernel)",
   "language": "python",
   "name": "python3"
  },
  "language_info": {
   "codemirror_mode": {
    "name": "ipython",
    "version": 3
   },
   "file_extension": ".py",
   "mimetype": "text/x-python",
   "name": "python",
   "nbconvert_exporter": "python",
   "pygments_lexer": "ipython3",
   "version": "3.12.3"
  }
 },
 "nbformat": 4,
 "nbformat_minor": 5
}
